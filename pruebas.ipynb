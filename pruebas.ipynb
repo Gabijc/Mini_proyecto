{
 "cells": [
  {
   "cell_type": "markdown",
   "id": "a2202d87",
   "metadata": {},
   "source": [
    "# Ideas y pruebas de mini proyectos"
   ]
  },
  {
   "cell_type": "code",
   "execution_count": 2,
   "id": "88e185b6",
   "metadata": {},
   "outputs": [],
   "source": [
    "import pandas as pd\n",
    "import requests"
   ]
  },
  {
   "cell_type": "markdown",
   "id": "3231a993",
   "metadata": {},
   "source": [
    "## Idea 1\n",
    "Hacer algo con los datos del banco de españa, que tienen una api y se puede mirar como trabajar con ella. "
   ]
  },
  {
   "cell_type": "markdown",
   "id": "088b29d1",
   "metadata": {},
   "source": [
    "https://www.bde.es/webbe/es/estadisticas/recursos/api-estadisticas-bde.html"
   ]
  },
  {
   "cell_type": "markdown",
   "id": "f06004e6",
   "metadata": {},
   "source": [
    "para acceder a los nombres/códigos de las series: https://app.bde.es/bie_www/bie_wwwias/xml/Arranque.html?Idioma=es&CUADRO=be,19,1#"
   ]
  },
  {
   "cell_type": "code",
   "execution_count": 3,
   "id": "6c1d433b",
   "metadata": {},
   "outputs": [],
   "source": [
    "url = \"https://app.bde.es/bierest/resources/srdatosapp/listaSeries?idioma=es&series=D_1NBAF472&rango=30M\""
   ]
  },
  {
   "cell_type": "code",
   "execution_count": 10,
   "id": "5db84db6",
   "metadata": {},
   "outputs": [],
   "source": [
    "def data(idioma, listado_series, rango_temporal):\n",
    "\n",
    "    url = f\"https://app.bde.es/bierest/resources/srdatosapp/listaSeries?idioma={idioma}&series={listado_series}&rango={rango_temporal}\"\n",
    "    \n",
    "    response = requests.get(url)\n",
    "\n",
    "    if response.status_code == 200:\n",
    "        print(\"Solicitud exitosa\")\n",
    "    else:\n",
    "        print(f\"Error: {response.status_code}\")\n",
    "\n",
    "    datos = response.json()\n",
    "    return datos"
   ]
  },
  {
   "cell_type": "code",
   "execution_count": 11,
   "id": "e9a794af",
   "metadata": {},
   "outputs": [
    {
     "name": "stdout",
     "output_type": "stream",
     "text": [
      "Solicitud exitosa\n"
     ]
    },
    {
     "data": {
      "text/plain": [
       "[{'serie': 'D_1NBAF472',\n",
       "  'descripcion': 'Euribor a un año',\n",
       "  'descripcionCorta': 'Euribor a un año',\n",
       "  'codFrecuencia': 'M',\n",
       "  'decimales': 3,\n",
       "  'simbolo': '%',\n",
       "  'informacion': [{'titulo': 'Nombre', 'descripcion': 'Euribor a un año'},\n",
       "   {'titulo': 'Descripción',\n",
       "    'descripcion': 'Tipos de interés. De referencia del mercado hipotecario. Euribor a un año.'},\n",
       "   {'titulo': 'Unidades', 'descripcion': 'Porcentaje'},\n",
       "   {'titulo': 'Decimales', 'descripcion': '3'},\n",
       "   {'titulo': 'Número de observaciones', 'descripcion': '318'},\n",
       "   {'titulo': 'Primer valor', 'descripcion': '[Ene 1999] 3,062 %'},\n",
       "   {'titulo': 'Último valor', 'descripcion': '[Jun 2025] 2,081 %'},\n",
       "   {'titulo': 'Valor mínimo', 'descripcion': '[Ene 2021] -0,505 %'},\n",
       "   {'titulo': 'Valor máximo', 'descripcion': '[Jul 2008] 5,393 %'},\n",
       "   {'titulo': 'Fuente',\n",
       "    'descripcion': 'EURIBOR European Banking Federation\\nACI Asociación de Mercados Financieros\\nBanco Central Europeo'},\n",
       "   {'titulo': 'Notas',\n",
       "    'descripcion': 'Tipo de oferta de los depósitos interbancarios en el área del euro correspondientes a 57 de los bancos más activos del área.\\nHasta diciembre de 1998 tipo sintético calculado ponderando los tipos nacionales por el Producto Interior Bruto.'},\n",
       "   {'titulo': 'Series relacionadas (cuadro pdf)',\n",
       "    'descripcion': \"<a href='https://www.bde.es/webbe/es/estadisticas/compartido/datos/pdf/a1901.pdf'>Descarga el cuadro en formato pdf con series relacionadas</a>\"},\n",
       "   {'titulo': 'Series relacionadas (archivo Excel)',\n",
       "    'descripcion': \"<a href='https://www.bde.es/webbe/es/estadisticas/compartido/datos/xlsx/be1901.xlsx'>Descarga el archivo Excel con series relacionadas</a>\"}],\n",
       "  'fechaInicio': '1999-01-01T09:15:00Z',\n",
       "  'fechaFin': '2025-06-01T08:15:00Z',\n",
       "  'fechas': ['2025-06-01T08:15:00Z',\n",
       "   '2025-05-01T08:15:00Z',\n",
       "   '2025-04-01T08:15:00Z',\n",
       "   '2025-03-01T09:15:00Z',\n",
       "   '2025-02-01T09:15:00Z',\n",
       "   '2025-01-01T09:15:00Z',\n",
       "   '2024-12-01T09:15:00Z',\n",
       "   '2024-11-01T09:15:00Z',\n",
       "   '2024-10-01T08:15:00Z',\n",
       "   '2024-09-01T08:15:00Z',\n",
       "   '2024-08-01T08:15:00Z',\n",
       "   '2024-07-01T08:15:00Z',\n",
       "   '2024-06-01T08:15:00Z',\n",
       "   '2024-05-01T08:15:00Z',\n",
       "   '2024-04-01T08:15:00Z',\n",
       "   '2024-03-01T09:15:00Z',\n",
       "   '2024-02-01T09:15:00Z',\n",
       "   '2024-01-01T09:15:00Z',\n",
       "   '2023-12-01T09:15:00Z',\n",
       "   '2023-11-01T09:15:00Z',\n",
       "   '2023-10-01T08:15:00Z',\n",
       "   '2023-09-01T08:15:00Z',\n",
       "   '2023-08-01T08:15:00Z',\n",
       "   '2023-07-01T08:15:00Z',\n",
       "   '2023-06-01T08:15:00Z',\n",
       "   '2023-05-01T08:15:00Z',\n",
       "   '2023-04-01T08:15:00Z',\n",
       "   '2023-03-01T09:15:00Z',\n",
       "   '2023-02-01T09:15:00Z',\n",
       "   '2023-01-01T09:15:00Z',\n",
       "   '2022-12-01T09:15:00Z'],\n",
       "  'valores': [2.081,\n",
       "   2.081,\n",
       "   2.143,\n",
       "   2.398,\n",
       "   2.407,\n",
       "   2.525,\n",
       "   2.436,\n",
       "   2.506,\n",
       "   2.691,\n",
       "   2.936,\n",
       "   3.166,\n",
       "   3.526,\n",
       "   3.65,\n",
       "   3.68,\n",
       "   3.703,\n",
       "   3.718,\n",
       "   3.671,\n",
       "   3.609,\n",
       "   3.679,\n",
       "   4.022,\n",
       "   4.16,\n",
       "   4.149,\n",
       "   4.073,\n",
       "   4.149,\n",
       "   4.007,\n",
       "   3.862,\n",
       "   3.757,\n",
       "   3.647,\n",
       "   3.534,\n",
       "   3.337,\n",
       "   3.018]}]"
      ]
     },
     "execution_count": 11,
     "metadata": {},
     "output_type": "execute_result"
    }
   ],
   "source": [
    "data(\"es\", \"D_1NBAF472\", \"30M\")"
   ]
  },
  {
   "cell_type": "markdown",
   "id": "4d2d5ef5",
   "metadata": {},
   "source": [
    "# Idea 2\n",
    "\n",
    "Mercado inmobiliario: precios para residentes vs precios para alquiler, ver como afectan los precios de alquiler turístico al precio de la vivienda para residentes. "
   ]
  }
 ],
 "metadata": {
  "kernelspec": {
   "display_name": "venv",
   "language": "python",
   "name": "python3"
  },
  "language_info": {
   "codemirror_mode": {
    "name": "ipython",
    "version": 3
   },
   "file_extension": ".py",
   "mimetype": "text/x-python",
   "name": "python",
   "nbconvert_exporter": "python",
   "pygments_lexer": "ipython3",
   "version": "3.12.4"
  }
 },
 "nbformat": 4,
 "nbformat_minor": 5
}
